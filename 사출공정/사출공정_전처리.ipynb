{
 "cells": [
  {
   "cell_type": "code",
   "execution_count": 270,
   "metadata": {},
   "outputs": [],
   "source": [
    "import pandas as pd"
   ]
  },
  {
   "cell_type": "code",
   "execution_count": 271,
   "metadata": {},
   "outputs": [
    {
     "data": {
      "text/plain": [
       "(7996, 45)"
      ]
     },
     "execution_count": 271,
     "metadata": {},
     "output_type": "execute_result"
    }
   ],
   "source": [
    "# (7996, 44)\n",
    "\n",
    "labeled_data = pd.read_csv('C:/Users/sungs/Desktop/고려대해커톤/04_dataset/labeled_data.csv', low_memory=False, index_col=0)\n",
    "labeled_data = labeled_data.reset_index()\n",
    "labeled_data.shape"
   ]
  },
  {
   "cell_type": "code",
   "execution_count": 272,
   "metadata": {},
   "outputs": [],
   "source": [
    "delete_feature = ['_id', 'Mold_Temperature_5', 'Mold_Temperature_6', 'Mold_Temperature_7', 'Barrel_Temperature_7',\n",
    "                  'Mold_Temperature_8', 'Mold_Temperature_9', 'Mold_Temperature_10', 'Mold_Temperature_11', 'Mold_Temperature_2',\n",
    "                  'Mold_Temperature_12', 'Mold_Temperature_1','PART_FACT_PLAN_DATE', 'PART_FACT_SERIAL', 'EQUIP_CD', 'Reason']"
   ]
  },
  {
   "cell_type": "code",
   "execution_count": 273,
   "metadata": {},
   "outputs": [],
   "source": [
    "labeled_data_preprocessed = labeled_data.drop(delete_feature, axis=1)\n",
    "#labeled_data_preprocessed.to_csv('labeled_data_preprocessed.csv', index=False)"
   ]
  }
 ],
 "metadata": {
  "kernelspec": {
   "display_name": "Python 3",
   "language": "python",
   "name": "python3"
  },
  "language_info": {
   "codemirror_mode": {
    "name": "ipython",
    "version": 3
   },
   "file_extension": ".py",
   "mimetype": "text/x-python",
   "name": "python",
   "nbconvert_exporter": "python",
   "pygments_lexer": "ipython3",
   "version": "3.8.5"
  }
 },
 "nbformat": 4,
 "nbformat_minor": 4
}
