{
 "cells": [
  {
   "cell_type": "code",
   "execution_count": 1,
   "metadata": {
    "scrolled": true
   },
   "outputs": [],
   "source": [
    "import pandas as pd\n",
    "df = pd.read_csv('melting_tank.csv')"
   ]
  },
  {
   "cell_type": "code",
   "execution_count": 2,
   "metadata": {},
   "outputs": [],
   "source": [
    "df.drop(['NUM', 'INSP','MELT_WEIGHT'], axis = 1, inplace = True)"
   ]
  },
  {
   "cell_type": "code",
   "execution_count": 3,
   "metadata": {},
   "outputs": [],
   "source": [
    "df['TAG'] = df['TAG'].replace({\"OK\" : 0, \"NG\" : 1})"
   ]
  },
  {
   "cell_type": "markdown",
   "metadata": {},
   "source": [
    "# One Class SVM"
   ]
  },
  {
   "cell_type": "code",
   "execution_count": 4,
   "metadata": {},
   "outputs": [],
   "source": [
    "from sklearn.preprocessing import StandardScaler\n",
    "from sklearn.decomposition import PCA\n",
    "from sklearn.ensemble import IsolationForest\n",
    "from sklearn.preprocessing import MinMaxScaler\n",
    "import numpy as np\n",
    "from sklearn.metrics import confusion_matrix\n",
    "from sklearn import svm"
   ]
  },
  {
   "cell_type": "code",
   "execution_count": 5,
   "metadata": {
    "scrolled": true
   },
   "outputs": [
    {
     "data": {
      "text/html": [
       "<div>\n",
       "<style scoped>\n",
       "    .dataframe tbody tr th:only-of-type {\n",
       "        vertical-align: middle;\n",
       "    }\n",
       "\n",
       "    .dataframe tbody tr th {\n",
       "        vertical-align: top;\n",
       "    }\n",
       "\n",
       "    .dataframe thead th {\n",
       "        text-align: right;\n",
       "    }\n",
       "</style>\n",
       "<table border=\"1\" class=\"dataframe\">\n",
       "  <thead>\n",
       "    <tr style=\"text-align: right;\">\n",
       "      <th></th>\n",
       "      <th>STD_DT</th>\n",
       "      <th>MELT_TEMP</th>\n",
       "      <th>MOTORSPEED</th>\n",
       "      <th>TAG</th>\n",
       "    </tr>\n",
       "  </thead>\n",
       "  <tbody>\n",
       "    <tr>\n",
       "      <th>0</th>\n",
       "      <td>2020-03-04 0:00</td>\n",
       "      <td>489</td>\n",
       "      <td>116</td>\n",
       "      <td>0</td>\n",
       "    </tr>\n",
       "    <tr>\n",
       "      <th>1</th>\n",
       "      <td>2020-03-04 0:00</td>\n",
       "      <td>433</td>\n",
       "      <td>78</td>\n",
       "      <td>0</td>\n",
       "    </tr>\n",
       "    <tr>\n",
       "      <th>2</th>\n",
       "      <td>2020-03-04 0:00</td>\n",
       "      <td>464</td>\n",
       "      <td>154</td>\n",
       "      <td>0</td>\n",
       "    </tr>\n",
       "    <tr>\n",
       "      <th>3</th>\n",
       "      <td>2020-03-04 0:00</td>\n",
       "      <td>379</td>\n",
       "      <td>212</td>\n",
       "      <td>0</td>\n",
       "    </tr>\n",
       "    <tr>\n",
       "      <th>4</th>\n",
       "      <td>2020-03-04 0:00</td>\n",
       "      <td>798</td>\n",
       "      <td>1736</td>\n",
       "      <td>0</td>\n",
       "    </tr>\n",
       "  </tbody>\n",
       "</table>\n",
       "</div>"
      ],
      "text/plain": [
       "            STD_DT  MELT_TEMP  MOTORSPEED  TAG\n",
       "0  2020-03-04 0:00        489         116    0\n",
       "1  2020-03-04 0:00        433          78    0\n",
       "2  2020-03-04 0:00        464         154    0\n",
       "3  2020-03-04 0:00        379         212    0\n",
       "4  2020-03-04 0:00        798        1736    0"
      ]
     },
     "execution_count": 5,
     "metadata": {},
     "output_type": "execute_result"
    }
   ],
   "source": [
    "df_co = df.copy()\n",
    "df_co = df_co.sort_values(by = 'STD_DT')\n",
    "df_co.head()"
   ]
  },
  {
   "cell_type": "code",
   "execution_count": 6,
   "metadata": {},
   "outputs": [
    {
     "data": {
      "text/html": [
       "<div>\n",
       "<style scoped>\n",
       "    .dataframe tbody tr th:only-of-type {\n",
       "        vertical-align: middle;\n",
       "    }\n",
       "\n",
       "    .dataframe tbody tr th {\n",
       "        vertical-align: top;\n",
       "    }\n",
       "\n",
       "    .dataframe thead th {\n",
       "        text-align: right;\n",
       "    }\n",
       "</style>\n",
       "<table border=\"1\" class=\"dataframe\">\n",
       "  <thead>\n",
       "    <tr style=\"text-align: right;\">\n",
       "      <th></th>\n",
       "      <th>MELT_TEMP</th>\n",
       "      <th>MOTORSPEED</th>\n",
       "      <th>TAG</th>\n",
       "    </tr>\n",
       "    <tr>\n",
       "      <th>STD_DT</th>\n",
       "      <th></th>\n",
       "      <th></th>\n",
       "      <th></th>\n",
       "    </tr>\n",
       "  </thead>\n",
       "  <tbody>\n",
       "    <tr>\n",
       "      <th>2020-03-04 0:00</th>\n",
       "      <td>489</td>\n",
       "      <td>116</td>\n",
       "      <td>0</td>\n",
       "    </tr>\n",
       "    <tr>\n",
       "      <th>2020-03-04 0:00</th>\n",
       "      <td>433</td>\n",
       "      <td>78</td>\n",
       "      <td>0</td>\n",
       "    </tr>\n",
       "    <tr>\n",
       "      <th>2020-03-04 0:00</th>\n",
       "      <td>464</td>\n",
       "      <td>154</td>\n",
       "      <td>0</td>\n",
       "    </tr>\n",
       "    <tr>\n",
       "      <th>2020-03-04 0:00</th>\n",
       "      <td>379</td>\n",
       "      <td>212</td>\n",
       "      <td>0</td>\n",
       "    </tr>\n",
       "    <tr>\n",
       "      <th>2020-03-04 0:00</th>\n",
       "      <td>798</td>\n",
       "      <td>1736</td>\n",
       "      <td>0</td>\n",
       "    </tr>\n",
       "  </tbody>\n",
       "</table>\n",
       "</div>"
      ],
      "text/plain": [
       "                 MELT_TEMP  MOTORSPEED  TAG\n",
       "STD_DT                                     \n",
       "2020-03-04 0:00        489         116    0\n",
       "2020-03-04 0:00        433          78    0\n",
       "2020-03-04 0:00        464         154    0\n",
       "2020-03-04 0:00        379         212    0\n",
       "2020-03-04 0:00        798        1736    0"
      ]
     },
     "execution_count": 6,
     "metadata": {},
     "output_type": "execute_result"
    }
   ],
   "source": [
    "df_co = df_co.set_index('STD_DT')\n",
    "df_co.head()"
   ]
  },
  {
   "cell_type": "code",
   "execution_count": 7,
   "metadata": {},
   "outputs": [
    {
     "name": "stdout",
     "output_type": "stream",
     "text": [
      "train_value count: \n",
      "0    448133\n",
      "Name: TAG, dtype: int64\n",
      "=============================\n",
      "=============================\n",
      "=============================\n",
      "test_value_count: \n",
      "0    210000\n",
      "1    177067\n",
      "Name: TAG, dtype: int64\n",
      "=============================\n",
      "(448133, 2) (387067, 2)\n"
     ]
    }
   ],
   "source": [
    "train = df_co[df_co['TAG'] == 0]\n",
    "train = train.iloc[:-210000]\n",
    "test = pd.concat([df_co[df_co['TAG'] == 1],train.iloc[-210000:]])\n",
    "#test = df_auto[df_auto['PassOrFail'] == 1]\n",
    "\n",
    "print('train_value count: ')\n",
    "print(train['TAG'].value_counts())\n",
    "print('=============================')\n",
    "print('=============================')\n",
    "print('=============================')\n",
    "print('test_value_count: ')\n",
    "print(test['TAG'].value_counts())\n",
    "\n",
    "X_train = train.drop('TAG', axis=1)\n",
    "X_test = test.drop('TAG', axis=1)\n",
    "print('=============================')\n",
    "print(X_train.shape, X_test.shape)"
   ]
  },
  {
   "cell_type": "code",
   "execution_count": 8,
   "metadata": {},
   "outputs": [],
   "source": [
    "from sklearn.preprocessing import MinMaxScaler"
   ]
  },
  {
   "cell_type": "code",
   "execution_count": 9,
   "metadata": {},
   "outputs": [],
   "source": [
    "from sklearn.covariance import EllipticEnvelope"
   ]
  },
  {
   "cell_type": "code",
   "execution_count": 10,
   "metadata": {},
   "outputs": [],
   "source": [
    "ss = MinMaxScaler()\n",
    "ss.fit(X_train)\n",
    "X_train = ss.transform(X_train)\n",
    "X_test = ss.transform(X_test)"
   ]
  },
  {
   "cell_type": "code",
   "execution_count": 11,
   "metadata": {},
   "outputs": [],
   "source": [
    "ee = EllipticEnvelope(contamination=0.01)\n",
    "yhat = ee.fit_predict()"
   ]
  },
  {
   "cell_type": "code",
   "execution_count": 20,
   "metadata": {},
   "outputs": [
    {
     "data": {
      "text/plain": [
       "OneClassSVM(gamma=0.01, kernel='linear', nu=0.1)"
      ]
     },
     "execution_count": 20,
     "metadata": {},
     "output_type": "execute_result"
    }
   ],
   "source": [
    "oc_svm_clf.fit(X_train)"
   ]
  },
  {
   "cell_type": "code",
   "execution_count": 13,
   "metadata": {},
   "outputs": [],
   "source": [
    "oc_svm_preds = oc_svm_clf.predict(X_test)"
   ]
  },
  {
   "cell_type": "code",
   "execution_count": 21,
   "metadata": {},
   "outputs": [],
   "source": [
    "y_preds = []\n",
    "for i in range(len(oc_svm_preds)):\n",
    "    if oc_svm_preds[i] == -1:\n",
    "        y_preds.append(1)\n",
    "    else:\n",
    "        y_preds.append(0)"
   ]
  },
  {
   "cell_type": "code",
   "execution_count": 22,
   "metadata": {},
   "outputs": [],
   "source": [
    "from sklearn.metrics import classification_report"
   ]
  },
  {
   "cell_type": "code",
   "execution_count": 23,
   "metadata": {},
   "outputs": [
    {
     "name": "stdout",
     "output_type": "stream",
     "text": [
      "[[195462  14538]\n",
      " [145289  31778]]\n",
      "              precision    recall  f1-score   support\n",
      "\n",
      "           0       0.57      0.93      0.71    210000\n",
      "           1       0.69      0.18      0.28    177067\n",
      "\n",
      "    accuracy                           0.59    387067\n",
      "   macro avg       0.63      0.56      0.50    387067\n",
      "weighted avg       0.63      0.59      0.52    387067\n",
      "\n"
     ]
    }
   ],
   "source": [
    "y_true = np.array((test['TAG']))\n",
    "print(confusion_matrix(y_true, y_preds))\n",
    "print(classification_report(y_true, y_preds))"
   ]
  }
 ],
 "metadata": {
  "kernelspec": {
   "display_name": "Python 3",
   "language": "python",
   "name": "python3"
  },
  "language_info": {
   "codemirror_mode": {
    "name": "ipython",
    "version": 3
   },
   "file_extension": ".py",
   "mimetype": "text/x-python",
   "name": "python",
   "nbconvert_exporter": "python",
   "pygments_lexer": "ipython3",
   "version": "3.8.5"
  }
 },
 "nbformat": 4,
 "nbformat_minor": 4
}
